{
  "cells": [
    {
      "cell_type": "markdown",
      "source": [
        "# Ejercicios Python"
      ],
      "metadata": {
        "id": "91hZWN1Ezjvc"
      }
    },
    {
      "cell_type": "code",
      "source": [
        "'''\n",
        "name = name.strip() #remueve los espacios demás del input\n",
        "name = name.capitalize() #agrega mayúscula al inicio\n",
        "name = name.title() #agrega mayúscula a todas las palabras al inicio\n",
        "print('tu nombre es',name ) \n",
        "\n",
        "'''\n",
        "name = input('¿Cual es tu nombre?').strip().title() #aca combiné el código\n",
        "print(f'tu nombre es {name}')"
      ],
      "metadata": {
        "colab": {
          "base_uri": "https://localhost:8080/"
        },
        "id": "F0hHPtP_Dzbp",
        "outputId": "d8fdffa0-a096-4651-ae0a-9ee608880280"
      },
      "execution_count": 17,
      "outputs": [
        {
          "output_type": "stream",
          "name": "stdout",
          "text": [
            "¿Cual es tu nombre?nehuen   martin  \n",
            "tu nombre es Nehuen   Martin\n"
          ]
        }
      ]
    },
    {
      "cell_type": "code",
      "source": [
        "'''\n",
        "x = int(input('Valor de X: '))\n",
        "y = int(input('Valor de y: '))\n",
        "print('El valor es: ',x + y)\n",
        "'''\n",
        "print('El valor es: ',int(input('Valor de X: ')) + int(input('Valor de y: '))) #aca combiné el código\n",
        "\n",
        "print('El valor es: ',float(input('Valor de X: ')) + float(input('Valor de y: '))) #aca combiné el código\n"
      ],
      "metadata": {
        "colab": {
          "base_uri": "https://localhost:8080/"
        },
        "id": "mIvazcrkL6AH",
        "outputId": "8d199ac0-16d5-41f1-a9a5-56fc9fee4cf2"
      },
      "execution_count": 19,
      "outputs": [
        {
          "output_type": "stream",
          "name": "stdout",
          "text": [
            "Valor de X: 4\n",
            "Valor de y: 4\n",
            "El valor es:  8\n",
            "Valor de X: 3.56\n",
            "Valor de y: 6.7\n",
            "El valor es:  10.26\n"
          ]
        }
      ]
    },
    {
      "cell_type": "code",
      "source": [
        "x = int(input('Valor de X: '))\n",
        "y = int(input('Valor de y: '))\n",
        "result = x + y\n",
        "\n",
        "print(f'{result:,}') #para añadir 'coma' tiene que ser así el print"
      ],
      "metadata": {
        "colab": {
          "base_uri": "https://localhost:8080/"
        },
        "id": "TC8yn2TwO3Hb",
        "outputId": "afc31aa2-0a13-46c5-a66a-3f7ba562ca48"
      },
      "execution_count": 22,
      "outputs": [
        {
          "output_type": "stream",
          "name": "stdout",
          "text": [
            "Valor de X: 900\n",
            "Valor de y: 4000\n",
            "4,900\n"
          ]
        }
      ]
    },
    {
      "cell_type": "code",
      "source": [
        "x = float(input('Valor de X: ')) #float toma en cuenta decimales\n",
        "y = float(input('Valor de y: '))\n",
        "result = x + y\n",
        "result = round(result) #así se redondea\n",
        "\n",
        "print(result)"
      ],
      "metadata": {
        "colab": {
          "base_uri": "https://localhost:8080/"
        },
        "id": "tqSPJ5-vPw-d",
        "outputId": "689ddf36-778b-4876-c9d2-058eb4741c05"
      },
      "execution_count": 23,
      "outputs": [
        {
          "output_type": "stream",
          "name": "stdout",
          "text": [
            "Valor de X: 10.26\n",
            "Valor de y: 35.56\n",
            "46\n"
          ]
        }
      ]
    },
    {
      "cell_type": "code",
      "source": [
        "x = float(input('Valor de X: ')) #float toma en cuenta decimales\n",
        "y = float(input('Valor de y: '))\n",
        "result = x / y\n",
        "result = round(result, 3) #redondeo hasta 3 dígitos despues de coma\n",
        "\n",
        "print(result)"
      ],
      "metadata": {
        "colab": {
          "base_uri": "https://localhost:8080/"
        },
        "id": "APHHADyJRRpJ",
        "outputId": "a426a7af-64d5-4483-e7b4-1072c174d18d"
      },
      "execution_count": 24,
      "outputs": [
        {
          "output_type": "stream",
          "name": "stdout",
          "text": [
            "Valor de X: 2\n",
            "Valor de y: 3\n",
            "0.667\n"
          ]
        }
      ]
    },
    {
      "cell_type": "code",
      "source": [
        "def perros():\n",
        "  pregunta = input('¿Que edad tiene tu perro?')\n",
        "  edad = int(pregunta)\n",
        "  if edad == 1: \n",
        "    return 15\n",
        "  elif edad == 2:\n",
        "    return 21\n",
        "  elif edad < 0:\n",
        "    return 'tu perro no existe'\n",
        "  else :\n",
        "    return 21 + ((edad - 2)*4)\n",
        "print(perros())"
      ],
      "metadata": {
        "id": "4lFhgahZxtG2"
      },
      "execution_count": null,
      "outputs": []
    },
    {
      "cell_type": "code",
      "source": [
        "from numpy.random import seed\n",
        "from numpy.random import randint\n",
        "\n",
        "from numpy import quantile #librería para Mediana\n",
        "from numpy import mean #librería para Promedio\n",
        "import statistics as st #librería para Moda\n",
        "from numpy import std #librería para Desviación\n",
        "\n",
        "\n",
        "lista = list(range(1,8))\n",
        "computadoras = [2,0]\n",
        "edades = [10,45,68,45,24,52,29,31,10,45,45] #array de datos para ejecutar la MODA\n",
        "semilla = 4444\n",
        "seed(semilla)\n",
        "\n",
        "print('El array es: ',randint(0,11,5)) #seed\n",
        "\n",
        "print('La moda es: ',st.mode(edades)) #así se calcula la MODA\n",
        "print('El promedio es: ',mean(edades)) #así se calcula el Promedio\n",
        "print('la mediana es: ',quantile(lista,0.5)) #así se calcula la MEDIANA\n",
        "print('La desviacion es de: ',std(edades))\n",
        "\n",
        "'''\n",
        "Tipos de variables\n",
        "\n",
        "variables Cuantitativas: \n",
        " \n",
        " -Discretas:  guitarra tiene 5 cuerdas = 1,2,3,4,5. no tine una cuerda 2.5 \n",
        "\n",
        " -Continuas: el dia tiene 24hs y dentro de esas 24hs hay minutos y segundos\n",
        "\n",
        "variables Cualitativas:\n",
        "\n",
        " -Nominales: describren a un objeto = color, marca, nombre\n",
        "\n",
        " -Ordinales: presentan un orden = primaria, secundaria, soldado, comandante, alumno, profesor.\n",
        "\n",
        "'''"
      ],
      "metadata": {
        "id": "J9D9EY8k2tsY"
      },
      "execution_count": null,
      "outputs": []
    }
  ],
  "metadata": {
    "colab": {
      "provenance": [],
      "toc_visible": true
    },
    "kernelspec": {
      "display_name": "Python 3",
      "name": "python3"
    }
  },
  "nbformat": 4,
  "nbformat_minor": 0
}