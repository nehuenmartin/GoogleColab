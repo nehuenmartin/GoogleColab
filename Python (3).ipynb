{
  "cells": [
    {
      "cell_type": "markdown",
      "source": [
        "# Python Basics"
      ],
      "metadata": {
        "id": "91hZWN1Ezjvc"
      }
    },
    {
      "cell_type": "code",
      "source": [
        "'''\n",
        "name = name.strip() #remueve los espacios demás del input\n",
        "name = name.capitalize() #agrega mayúscula al inicio\n",
        "name = name.title() #agrega mayúscula a todas las palabras al inicio\n",
        "print('tu nombre es',name ) \n",
        "\n",
        "'''\n",
        "name = input('¿Cual es tu nombre?').strip().title() #aca combiné el código\n",
        "print(f'tu nombre es {name}')"
      ],
      "metadata": {
        "colab": {
          "base_uri": "https://localhost:8080/"
        },
        "id": "F0hHPtP_Dzbp",
        "outputId": "d8fdffa0-a096-4651-ae0a-9ee608880280"
      },
      "execution_count": 17,
      "outputs": [
        {
          "output_type": "stream",
          "name": "stdout",
          "text": [
            "¿Cual es tu nombre?nehuen   martin  \n",
            "tu nombre es Nehuen   Martin\n"
          ]
        }
      ]
    },
    {
      "cell_type": "code",
      "source": [
        "'''\n",
        "x = int(input('Valor de X: '))\n",
        "y = int(input('Valor de y: '))\n",
        "print('El valor es: ',x + y)\n",
        "'''\n",
        "print('El valor es: ',int(input('Valor de X: ')) + int(input('Valor de y: '))) #aca combiné el código\n",
        "\n",
        "print('El valor es: ',float(input('Valor de X: ')) + float(input('Valor de y: '))) #aca combiné el código\n"
      ],
      "metadata": {
        "colab": {
          "base_uri": "https://localhost:8080/"
        },
        "id": "mIvazcrkL6AH",
        "outputId": "8d199ac0-16d5-41f1-a9a5-56fc9fee4cf2"
      },
      "execution_count": 19,
      "outputs": [
        {
          "output_type": "stream",
          "name": "stdout",
          "text": [
            "Valor de X: 4\n",
            "Valor de y: 4\n",
            "El valor es:  8\n",
            "Valor de X: 3.56\n",
            "Valor de y: 6.7\n",
            "El valor es:  10.26\n"
          ]
        }
      ]
    },
    {
      "cell_type": "code",
      "source": [
        "x = int(input('Valor de X: '))\n",
        "y = int(input('Valor de y: '))\n",
        "result = x + y\n",
        "\n",
        "print(f'{result:,}') #para añadir 'coma' tiene que ser así el print"
      ],
      "metadata": {
        "colab": {
          "base_uri": "https://localhost:8080/"
        },
        "id": "TC8yn2TwO3Hb",
        "outputId": "afc31aa2-0a13-46c5-a66a-3f7ba562ca48"
      },
      "execution_count": 22,
      "outputs": [
        {
          "output_type": "stream",
          "name": "stdout",
          "text": [
            "Valor de X: 900\n",
            "Valor de y: 4000\n",
            "4,900\n"
          ]
        }
      ]
    },
    {
      "cell_type": "code",
      "source": [
        "x = float(input('Valor de X: ')) #float toma en cuenta decimales\n",
        "y = float(input('Valor de y: '))\n",
        "result = x + y\n",
        "result = round(result) #así se redondea\n",
        "print(result)\n"
      ],
      "metadata": {
        "colab": {
          "base_uri": "https://localhost:8080/"
        },
        "id": "tqSPJ5-vPw-d",
        "outputId": "95a1ddca-223f-47d8-b66f-6b4f92040e71"
      },
      "execution_count": 3,
      "outputs": [
        {
          "output_type": "stream",
          "name": "stdout",
          "text": [
            "Valor de X: 3.4\n",
            "Valor de y: 4.9\n",
            "8\n"
          ]
        }
      ]
    },
    {
      "cell_type": "code",
      "source": [
        "x = float(input('Valor de X: ')) #float toma en cuenta decimales\n",
        "y = float(input('Valor de y: '))\n",
        "result = x / y\n",
        "'''\n",
        "result = round(result, 2) #redondeo hasta 2 dígitos despues de coma\n",
        "print(result)\n",
        "'''\n",
        "print(f'{result:.2f}') #Manera mas sencilla "
      ],
      "metadata": {
        "colab": {
          "base_uri": "https://localhost:8080/"
        },
        "id": "APHHADyJRRpJ",
        "outputId": "7e7c69bc-3408-4a7a-9336-c8ed6e7f3ad0"
      },
      "execution_count": 5,
      "outputs": [
        {
          "output_type": "stream",
          "name": "stdout",
          "text": [
            "Valor de X: 2\n",
            "Valor de y: 4\n",
            "0.50\n"
          ]
        }
      ]
    },
    {
      "cell_type": "code",
      "source": [
        "name = input('Dime tu nombre ')\n",
        "if name == 'Harry' or name == 'Hermione' or name == 'Ron':\n",
        "  print('¡Gryffindor!')\n",
        "elif name == 'Draco':\n",
        " print('¡Slytherin!')\n",
        "else: \n",
        "  print('i dont know')"
      ],
      "metadata": {
        "colab": {
          "base_uri": "https://localhost:8080/"
        },
        "id": "yWaRSt7YDOFS",
        "outputId": "bda11cf9-fd7d-48d1-bd56-ecfea6853f10"
      },
      "execution_count": 22,
      "outputs": [
        {
          "output_type": "stream",
          "name": "stdout",
          "text": [
            "Dime tu nombre Harry\n",
            "¡Gryffindor!\n"
          ]
        }
      ]
    },
    {
      "cell_type": "code",
      "source": [
        "name = input('Dime tu nombre ')\n",
        "\n",
        "match name:\n",
        "  case 'Harry':\n",
        "   print('¡Gryffindor!')\n",
        "  case 'Hermione':\n",
        "   print('¡Gryffindor!')\n",
        "  case 'Ron':\n",
        "   print('¡Gryffindor!')\n",
        "  case 'Draco':\n",
        "   print('¡Slytherin!')\n",
        "  case _:\n",
        "    print('i dont know')"
      ],
      "metadata": {
        "id": "xYkS7eU9EMHO"
      },
      "execution_count": null,
      "outputs": []
    },
    {
      "cell_type": "code",
      "source": [
        "name = input('Dime tu nombre ')\n",
        "\n",
        "match name:\n",
        "  case 'Harry'| 'Hermione'| 'Ron': \n",
        "   print('¡Gryffindor!')\n",
        "  case 'Draco':\n",
        "   print('¡Slytherin!')\n",
        "  case _:\n",
        "   print('i dont know')"
      ],
      "metadata": {
        "id": "7keqBPAEFvLL"
      },
      "execution_count": null,
      "outputs": []
    },
    {
      "cell_type": "code",
      "source": [
        "score = int(input('Cuanto es el puntaje del examen? '))\n",
        "if score >= 90 and score <= 100:\n",
        "  print('La calificación es A')\n",
        "elif score >= 80 and score < 90: \n",
        "  print('La calificación es B')\n",
        "elif score >= 70 and score < 80:\n",
        "  print('La calificación es C')\n",
        "elif score >= 60 and score <70:\n",
        "  print('La calificación es D')\n",
        "else: \n",
        "  print('La calificación es F')"
      ],
      "metadata": {
        "colab": {
          "base_uri": "https://localhost:8080/"
        },
        "id": "AtdLIxuE4xfH",
        "outputId": "9da3522e-596f-471b-b4b1-99bfaba952c9"
      },
      "execution_count": 10,
      "outputs": [
        {
          "output_type": "stream",
          "name": "stdout",
          "text": [
            "Cuanto es el puntaje del examen? 93\n",
            "La calificación es A\n"
          ]
        }
      ]
    },
    {
      "cell_type": "code",
      "source": [
        "def perros():\n",
        "  pregunta = input('¿Que edad tiene tu perro? ')\n",
        "  edad = int(pregunta)\n",
        "  if edad == 1: \n",
        "    return 15\n",
        "  elif edad == 2:\n",
        "    return 21\n",
        "  elif edad < 0:\n",
        "    return 'tu perro no existe'\n",
        "  else :\n",
        "    return 21 + ((edad - 2)*4)\n",
        "print('Tu perro tiene',perros(),'años humanos')"
      ],
      "metadata": {
        "colab": {
          "base_uri": "https://localhost:8080/"
        },
        "id": "4lFhgahZxtG2",
        "outputId": "a7ff59d4-8aba-4f8b-9976-ad67fe26eb9a"
      },
      "execution_count": 47,
      "outputs": [
        {
          "output_type": "stream",
          "name": "stdout",
          "text": [
            "¿Que edad tiene tu perro? 4\n",
            "Tu perro tiene 29 años humanos\n"
          ]
        }
      ]
    },
    {
      "cell_type": "code",
      "source": [
        "def perros():\n",
        "  pregunta = input('¿Que edad tiene tu perro? ')\n",
        "  edad = int(pregunta)\n",
        "  if edad == 1: \n",
        "    return 15\n",
        "  elif edad == 2:\n",
        "    return 21\n",
        "  elif edad < 0:\n",
        "    return 'tu perro no existe'\n",
        "  else :\n",
        "    return 21 + ((edad - 2)*4)\n",
        "    print(f'esta es la edad de tu perro en años huamnos {edad}')\n",
        "perros()"
      ],
      "metadata": {
        "colab": {
          "base_uri": "https://localhost:8080/"
        },
        "id": "04uwtLJldlch",
        "outputId": "3cb89d20-1db1-4050-bc75-3b36f55b5834"
      },
      "execution_count": 3,
      "outputs": [
        {
          "name": "stdout",
          "output_type": "stream",
          "text": [
            "¿Que edad tiene tu perro? 10\n"
          ]
        },
        {
          "output_type": "execute_result",
          "data": {
            "text/plain": [
              "53"
            ]
          },
          "metadata": {},
          "execution_count": 3
        }
      ]
    },
    {
      "cell_type": "code",
      "source": [
        "def main():\n",
        "  x = int(input('Dime un numero y lo multiplicaré por si mismo '))\n",
        "  print('El resultado es: ', square(x)) #aqui llamo a una función que no existe\n",
        "\n",
        "def square(n): #creo la función square(n)\n",
        "  return n * n\n",
        "  return pow(n,2) #estas 3 maneras son iguales\n",
        "  return n ** 2 \n",
        "\n",
        "main() #llamo a la función y se crea square(x)"
      ],
      "metadata": {
        "colab": {
          "base_uri": "https://localhost:8080/"
        },
        "id": "AMCeE-mNrcrC",
        "outputId": "fdca445f-e573-489a-9765-bafdde1ade27"
      },
      "execution_count": 48,
      "outputs": [
        {
          "output_type": "stream",
          "name": "stdout",
          "text": [
            "Dime un numero y lo multiplicaré por si mismo 10\n",
            "El resultado es:  100\n"
          ]
        }
      ]
    },
    {
      "cell_type": "code",
      "source": [
        "def main():\n",
        "  x = int(input('Dame un numero '))\n",
        "  if parImpar(x): #llamo a la función con el valor de X\n",
        "    print('El número es par.')\n",
        "  else: \n",
        "      print('El número es impar')\n",
        "\n",
        "def parImpar(n):\n",
        "    return True if n % 2 == 0 else False\n",
        "\n",
        "main()"
      ],
      "metadata": {
        "colab": {
          "base_uri": "https://localhost:8080/"
        },
        "id": "fKHpmY489x0F",
        "outputId": "467cb311-e2d4-49b5-98af-ab5ce212c9fb"
      },
      "execution_count": 16,
      "outputs": [
        {
          "output_type": "stream",
          "name": "stdout",
          "text": [
            "Dame un numero 24\n",
            "El número es par.\n"
          ]
        }
      ]
    },
    {
      "cell_type": "code",
      "source": [
        "i = 3\n",
        "while i != 0:\n",
        " print('meow')\n",
        " i = i - 1\n",
        "\n",
        "d = 0\n",
        "while d <= 2:\n",
        "  print('gua')\n",
        "  d = d + 1"
      ],
      "metadata": {
        "colab": {
          "base_uri": "https://localhost:8080/"
        },
        "id": "cMrtRc3VL16L",
        "outputId": "f4d65c05-5a5f-4b91-864f-f1d97df12f6f"
      },
      "execution_count": 12,
      "outputs": [
        {
          "output_type": "stream",
          "name": "stdout",
          "text": [
            "meow\n",
            "meow\n",
            "meow\n",
            "gua\n",
            "gua\n",
            "gua\n"
          ]
        }
      ]
    },
    {
      "cell_type": "code",
      "source": [
        "for i in [0, 1, 2, 3]:\n",
        " print('car')\n",
        "\n",
        "for d in range(4):\n",
        " print('bike')\n",
        "\n",
        "print('skate\\n' * 4)"
      ],
      "metadata": {
        "colab": {
          "base_uri": "https://localhost:8080/"
        },
        "id": "P4V_62LxPkWN",
        "outputId": "86e95ffc-e78b-4b19-c29a-f1eba4c04d32"
      },
      "execution_count": 23,
      "outputs": [
        {
          "output_type": "stream",
          "name": "stdout",
          "text": [
            "car\n",
            "car\n",
            "car\n",
            "car\n",
            "bike\n",
            "bike\n",
            "bike\n",
            "bike\n",
            "skate\n",
            "skate\n",
            "skate\n",
            "skate\n",
            "\n"
          ]
        }
      ]
    },
    {
      "cell_type": "code",
      "source": [
        "def main():\n",
        "  number = get_number() # Creo una variable para obtener el numero de veces\n",
        "  meow(number)\n",
        "def get_number():\n",
        "  while True:\n",
        "    n = int(input('Cuantas veces repetiras \"meow\"?'))\n",
        "    if n > 0: \n",
        "      break # Acá se cortará el loop siempre que el nuemro sea mayor a 0\n",
        "  return n # Siempre debo devolver el valor despues del loop y fuera de este\n",
        "def meow(n):\n",
        "  for _ in range(n):\n",
        "    print('meow')\n",
        "\n",
        "main()"
      ],
      "metadata": {
        "colab": {
          "base_uri": "https://localhost:8080/"
        },
        "id": "DaBqfqBHucLc",
        "outputId": "8a4bda02-f1e1-410c-c39c-078b7c0172b4"
      },
      "execution_count": 27,
      "outputs": [
        {
          "output_type": "stream",
          "name": "stdout",
          "text": [
            "Cuantas veces repetiras \"meow\"?3\n",
            "meow\n",
            "meow\n",
            "meow\n"
          ]
        }
      ]
    },
    {
      "cell_type": "code",
      "source": [
        "students = ['Hermione','Harry','Ron']\n",
        "for students in students:\n",
        "  print(students)\n",
        "\n",
        "students = ['Hermione','Harry','Ron'] \n",
        "for s in students: # En vez de utilizar students luego del for puedo usar cualquier signo o letra\n",
        "  print(s) # Imprimo s, pero no es recomendable, porque puede ser confuso\n",
        "  \n",
        "students = ['Hermione','Harry','Ron'] \n",
        "for std in range(len(students)): # Range es solo para números, el array tiene Strings entonces agrego 'len' para pasar las posiciones (valor numérico)\n",
        "  print(students[std])\n",
        "\n",
        "students = ['Hermione','Harry','Ron'] \n",
        "for std in range(len(students)): \n",
        "  print(std + 1, students[std]) # Std es el valor de posicion dentro del array"
      ],
      "metadata": {
        "colab": {
          "base_uri": "https://localhost:8080/"
        },
        "id": "WRpQY75Nywwa",
        "outputId": "b4001855-f440-4fe0-fcbe-95010f0c42a7"
      },
      "execution_count": 32,
      "outputs": [
        {
          "output_type": "stream",
          "name": "stdout",
          "text": [
            "Hermione\n",
            "Harry\n",
            "Ron\n",
            "Hermione\n",
            "Harry\n",
            "Ron\n",
            "Hermione\n",
            "Harry\n",
            "Ron\n",
            "1 Hermione\n",
            "2 Harry\n",
            "3 Ron\n"
          ]
        }
      ]
    },
    {
      "cell_type": "code",
      "source": [
        "students = { # Esto es un diccionario\n",
        "    'Hermione':'Gryfindor', # Llave/key más su value\n",
        "    'Harry':'Gryfindor',\n",
        "    'Ron':'Grynfindor',\n",
        "    'Draco':'Slytherin'\n",
        "    }\n",
        "for s  in students:\n",
        "  print(s, students[s], sep = ', ') # Primero llamo la llave y luego su Value\n"
      ],
      "metadata": {
        "colab": {
          "base_uri": "https://localhost:8080/"
        },
        "id": "EPeSx0dE7MK2",
        "outputId": "51f1a9e7-79fb-4ee6-caa4-32a2fba42c1f"
      },
      "execution_count": 42,
      "outputs": [
        {
          "output_type": "stream",
          "name": "stdout",
          "text": [
            "Hermione, Gryfindor\n",
            "Harry, Gryfindor\n",
            "Ron, Grynfindor\n",
            "Draco, Slytherin\n"
          ]
        }
      ]
    },
    {
      "cell_type": "code",
      "source": [
        "students = [\n",
        "    {'Name':'Hermione','House':'Gryfindor','Patronus':'Otter'},\n",
        "    {'Name':'Harry','House':'Gryfindor','Patronus':'Stag'},\n",
        "    {'Name':'Ron','House':'Gryfindor','Patronus':'Jack Russell Terrier '},\n",
        "    {'Name':'Draco','House':'Slytherin','Patronus':None}\n",
        "]\n",
        "for s in students:\n",
        "  print(s['Name'],s['House'],s['Patronus'], sep = ', ')"
      ],
      "metadata": {
        "colab": {
          "base_uri": "https://localhost:8080/"
        },
        "id": "vz8QmdZ2BQ6s",
        "outputId": "5113077c-e8e3-4d6e-cdce-c6c8b7c60fa7"
      },
      "execution_count": 47,
      "outputs": [
        {
          "output_type": "stream",
          "name": "stdout",
          "text": [
            "Hermione, Gryfindor, Otter\n",
            "Harry, Gryfindor, Stag\n",
            "Ron, Gryfindor, Jack Russell Terrier \n",
            "Draco, Slytherin, None\n"
          ]
        }
      ]
    },
    {
      "cell_type": "code",
      "source": [
        "from numpy.random import seed\n",
        "from numpy.random import randint\n",
        "\n",
        "from numpy import quantile #librería para Mediana\n",
        "from numpy import mean #librería para Promedio\n",
        "import statistics as st #librería para Moda\n",
        "from numpy import std #librería para Desviación\n",
        "from numpy import *\n",
        "\n",
        "lista = list(range(1,8))\n",
        "computadoras = [2,0]\n",
        "edades = [10,45,68,45,24,52,29,31,10,45,45] #array de datos para ejecutar la MODA\n",
        "semilla = 4444\n",
        "seed(semilla)\n",
        "\n",
        "print('El array es: ',randint(0,11,5)) #seed\n",
        "\n",
        "print('La moda es: ',st.mode(edades)) #así se calcula la MODA\n",
        "print('El promedio es: ',mean(edades)) #así se calcula el Promedio\n",
        "print('la mediana es: ',quantile(lista,0.5)) #así se calcula la MEDIANA\n",
        "print('La desviacion es de: ',std(edades))\n",
        "\n",
        "'''\n",
        "Tipos de variables\n",
        "\n",
        "variables Cuantitativas: \n",
        " \n",
        " -Discretas:  guitarra tiene 5 cuerdas = 1,2,3,4,5. no tine una cuerda 2.5 \n",
        "\n",
        " -Continuas: el dia tiene 24hs y dentro de esas 24hs hay minutos y segundos\n",
        "\n",
        "variables Cualitativas:\n",
        "\n",
        " -Nominales: describren a un objeto = color, marca, nombre\n",
        "\n",
        " -Ordinales: presentan un orden = primaria, secundaria, soldado, comandante, alumno, profesor.\n",
        "\n",
        "'''"
      ],
      "metadata": {
        "colab": {
          "base_uri": "https://localhost:8080/",
          "height": 252
        },
        "id": "J9D9EY8k2tsY",
        "outputId": "2b3ddce8-fae9-4803-dcaf-05f0a2abfe11"
      },
      "execution_count": 25,
      "outputs": [
        {
          "output_type": "stream",
          "name": "stdout",
          "text": [
            "El array es:  [9 9 9 3 5]\n"
          ]
        },
        {
          "output_type": "error",
          "ename": "NameError",
          "evalue": "ignored",
          "traceback": [
            "\u001b[0;31m---------------------------------------------------------------------------\u001b[0m",
            "\u001b[0;31mNameError\u001b[0m                                 Traceback (most recent call last)",
            "\u001b[0;32m<ipython-input-25-7da5e84c4aa6>\u001b[0m in \u001b[0;36m<module>\u001b[0;34m\u001b[0m\n\u001b[1;32m     18\u001b[0m \u001b[0mprint\u001b[0m\u001b[0;34m(\u001b[0m\u001b[0;34m'El array es: '\u001b[0m\u001b[0;34m,\u001b[0m\u001b[0mrandint\u001b[0m\u001b[0;34m(\u001b[0m\u001b[0;36m0\u001b[0m\u001b[0;34m,\u001b[0m\u001b[0;36m11\u001b[0m\u001b[0;34m,\u001b[0m\u001b[0;36m5\u001b[0m\u001b[0;34m)\u001b[0m\u001b[0;34m)\u001b[0m \u001b[0;31m#seed\u001b[0m\u001b[0;34m\u001b[0m\u001b[0;34m\u001b[0m\u001b[0m\n\u001b[1;32m     19\u001b[0m \u001b[0;34m\u001b[0m\u001b[0m\n\u001b[0;32m---> 20\u001b[0;31m \u001b[0mprint\u001b[0m\u001b[0;34m(\u001b[0m\u001b[0;34m'La moda es: '\u001b[0m\u001b[0;34m,\u001b[0m\u001b[0mst\u001b[0m\u001b[0;34m.\u001b[0m\u001b[0mmode\u001b[0m\u001b[0;34m(\u001b[0m\u001b[0medades\u001b[0m\u001b[0;34m)\u001b[0m\u001b[0;34m)\u001b[0m \u001b[0;31m#así se calcula la MODA\u001b[0m\u001b[0;34m\u001b[0m\u001b[0;34m\u001b[0m\u001b[0m\n\u001b[0m\u001b[1;32m     21\u001b[0m \u001b[0mprint\u001b[0m\u001b[0;34m(\u001b[0m\u001b[0;34m'El promedio es: '\u001b[0m\u001b[0;34m,\u001b[0m\u001b[0mmean\u001b[0m\u001b[0;34m(\u001b[0m\u001b[0medades\u001b[0m\u001b[0;34m)\u001b[0m\u001b[0;34m)\u001b[0m \u001b[0;31m#así se calcula el Promedio\u001b[0m\u001b[0;34m\u001b[0m\u001b[0;34m\u001b[0m\u001b[0m\n\u001b[1;32m     22\u001b[0m \u001b[0mprint\u001b[0m\u001b[0;34m(\u001b[0m\u001b[0;34m'la mediana es: '\u001b[0m\u001b[0;34m,\u001b[0m\u001b[0mquantile\u001b[0m\u001b[0;34m(\u001b[0m\u001b[0mlista\u001b[0m\u001b[0;34m,\u001b[0m\u001b[0;36m0.5\u001b[0m\u001b[0;34m)\u001b[0m\u001b[0;34m)\u001b[0m \u001b[0;31m#así se calcula la MEDIANA\u001b[0m\u001b[0;34m\u001b[0m\u001b[0;34m\u001b[0m\u001b[0m\n",
            "\u001b[0;31mNameError\u001b[0m: name 'st' is not defined"
          ]
        }
      ]
    },
    {
      "cell_type": "markdown",
      "source": [
        "# Ejercicios"
      ],
      "metadata": {
        "id": "C_MvWIH9HtiS"
      }
    },
    {
      "cell_type": "code",
      "source": [
        "answer = input('What is the Answer to the Great Question of Life, the Universe, and Everything?')\n",
        "match answer: \n",
        "  case '42' | 'forty-two' | 'forty two':\n",
        "    print('Yes..')\n",
        "  case _:\n",
        "    print(answer)"
      ],
      "metadata": {
        "id": "NPWk2C_AH1bW"
      },
      "execution_count": null,
      "outputs": []
    },
    {
      "cell_type": "code",
      "source": [
        "answer = input('What is the Answer to the Great Question of Life, the Universe, and Everything? ')\n",
        "\n",
        "if answer == '42':\n",
        "  print('Yes..')\n",
        "elif answer == 'forty two':\n",
        "  print('Yes..')\n",
        "elif answer == 'forty-two':\n",
        "  print('Yes..')"
      ],
      "metadata": {
        "colab": {
          "base_uri": "https://localhost:8080/"
        },
        "id": "tJXwOfHTIfhH",
        "outputId": "7cf3e664-9efb-4469-dcf0-747b9c06f16a"
      },
      "execution_count": 15,
      "outputs": [
        {
          "output_type": "stream",
          "name": "stdout",
          "text": [
            "What is the Answer to the Great Question of Life, the Universe, and Everything? 42\n",
            "Yes..\n"
          ]
        }
      ]
    },
    {
      "cell_type": "code",
      "source": [
        "  #datos de la ventana\n",
        "  base = int(input('Ancho de la ventana? '))\n",
        "  alto = int(input('Alto de la ventana? '))\n",
        "\n",
        "  #pasar a metros los daros\n",
        "  metrosBase = base / 1000\n",
        "  metrosAlto = alto / 1000\n",
        "\n",
        "  #datos material\n",
        "  vidrio = 2000 # por metro cuadrado\n",
        "  aluminio = 3800 # el metro\n",
        "\n",
        "  #calcular area del cuadrado\n",
        "  area = (metrosBase * metrosAlto)\n",
        "\n",
        "  #calcular perimetro del cuadrado\n",
        "  perimetro = ((metrosBase * 2) + (metrosAlto * 2))\n",
        "\n",
        "  #calcular costo\n",
        "  costoVidrio = area * vidrio\n",
        "  costoAluminio = perimetro * aluminio \n",
        "\n",
        "  print(f'Costo del Vidrio: {costoVidrio:,} $ y el costo de aluminio es: {costoAluminio:,}$')"
      ],
      "metadata": {
        "id": "36qP21HXUUr2"
      },
      "execution_count": null,
      "outputs": []
    },
    {
      "cell_type": "code",
      "source": [
        "def ventanas():\n",
        "    \n",
        "    #Formula calcular valor aluminio\n",
        "\n",
        "    tipoAluminio = input(\"¿Qué tipo de aluminio desea?\")\n",
        "    if tipoAluminio == \"normal\":\n",
        "        tipoAluminio = 3334\n",
        "    elif tipoAluminio == \"blanco\":\n",
        "        tipoAluminio = 2000\n",
        "    elif tipoAluminio == \"negro\":\n",
        "        tipoAluminio = 2667\n",
        "    else:  \n",
        "            print(\"No tenemos ese tipo de ventana\")\n",
        "\n",
        "    #Formula calcular valor vidrio\n",
        "\n",
        "    tipoVidrio = input(\"¿Qué tipo de vidrio desea?\")\n",
        "    if tipoVidrio == \"simple\":\n",
        "        tipoVidrio = 50000\n",
        "    elif tipoVidrio == \"doble\":\n",
        "        tipoVidrio = 90000\n",
        "    elif tipoVidrio == \"oscuro\":\n",
        "        tipoVidrio = 70000\n",
        "    elif tipoVidrio == \"laminado\":\n",
        "        tipoVidrio = 120000\n",
        "    elif tipoVidrio == \"blindex\":\n",
        "        tipoVidrio = 150000\n",
        "    else:\n",
        "        print(\"No tenemos ese tipo de vidrio\")\n",
        "\n",
        "    #Formula calcular tamaño ventana\n",
        "\n",
        "    ancho = float(input(\"¿Ancho de la ventana?\"))\n",
        "    anchoMetro = float(ancho / 1000)\n",
        "    alto = float(input(\"¿Alto de la ventana?\"))\n",
        "    altoMetro = float(alto / 1000)\n",
        "    \n",
        "    #calcular area ventana\n",
        "    areaVentana = anchoMetro * altoMetro\n",
        "\n",
        "    #calcular perimetro ventana\n",
        "    perimetroVentana = (anchoMetro * 2) + (altoMetro * 2)\n",
        "\n",
        "    #calcular valor total ventana\n",
        "\n",
        "    valorVidrio = areaVentana * tipoVidrio\n",
        "    valorAluminio = perimetroVentana * tipoAluminio\n",
        "\n",
        "    print(f'El valor de la ventana es {valorVidrio + valorAluminio:,}$\\nEl valor del vidrio es {valorVidrio:,}$\\nEl valor del aluminio es {valorAluminio:,}$')\n",
        "\n",
        "    \n",
        "ventanas()"
      ],
      "metadata": {
        "id": "RfxrRisiFs_-"
      },
      "execution_count": null,
      "outputs": []
    },
    {
      "cell_type": "code",
      "source": [
        "def ventanas():\n",
        "    precios_aluminio = {\"normal\": 3334, \"blanco\": 2000, \"negro\": 2667}\n",
        "    precios_vidrio = {\"simple\": 30000, \"doble\": 60000, \"oscuro\": 80000, \"laminado\": 120000, \"blindex\": 150000}\n",
        "\n",
        "    tipo_aluminio = input(\"¿Qué tipo de aluminio desea?\")\n",
        "    tipo_aluminio_precio = precios_aluminio.get(tipo_aluminio, None)\n",
        "    if tipo_aluminio_precio is None:\n",
        "        print(\"No tenemos ese tipo de aluminio.\")\n",
        "        return\n",
        "\n",
        "    tipo_vidrio = input(\"¿Qué tipo de vidrio desea?\")\n",
        "    tipo_vidrio_precio = precios_vidrio.get(tipo_vidrio, None)\n",
        "    if tipo_vidrio_precio is None:\n",
        "        print(\"No tenemos ese tipo de vidrio.\")\n",
        "        return\n",
        "\n",
        "    while True:\n",
        "      try:\n",
        "        ancho = float(input(\"¿Ancho de la ventana en milímetros?\"))\n",
        "        if ancho > 1800:\n",
        "            print(\"El ancho no puede ser mayor a 1800 milímetros\")\n",
        "            continue\n",
        "        alto = float(input(\"¿Alto de la ventana en milímetros?\"))\n",
        "        if alto > 2500:\n",
        "            print(\"El alto no puede ser mayor a 2500 milímetros\")\n",
        "            continue\n",
        "        break\n",
        "      except ValueError:\n",
        "        print(\"Por favor ingrese un número válido para el ancho y el alto.\")\n",
        "\n",
        "\n",
        "    ancho_metro = float(ancho / 1000)\n",
        "    alto_metro = float(alto / 1000)\n",
        "    area_ventana = ancho_metro * alto_metro\n",
        "    perimetro_ventana = (ancho_metro * 2) + (alto_metro * 2)\n",
        "\n",
        "    valor_vidrio = round((area_ventana * tipo_vidrio_precio)/4.5,2)\n",
        "    valor_aluminio = round(perimetro_ventana * tipo_aluminio_precio,2)\n",
        "\n",
        "    # Se calcula el material utilizado\n",
        "    material_utilizado_aluminio = round(perimetro_ventana, 2)\n",
        "    material_utilizado_vidrio = round(area_ventana, 2)\n",
        "    tira_aluminio = 6\n",
        "    if perimetro_ventana > 6: \n",
        "      tira_aluminio = 12\n",
        "    plancha_vidrio = 4.5\n",
        "\n",
        "    # Se calcula el valor del material utilizado\n",
        "    valor_aluminio_utilizado = round(tira_aluminio * tipo_aluminio_precio,2)\n",
        "    valor_vidrio_utilizado = round(valor_vidrio,2)\n",
        "\n",
        "\n",
        "    # Se calcula el material sobrante\n",
        "    material_sobrante_aluminio = round(tira_aluminio - material_utilizado_aluminio, 2)\n",
        "    material_sobrante_vidrio = round(plancha_vidrio - material_utilizado_vidrio, 2)\n",
        "\n",
        "    # Se calcula el valor del material sobrante\n",
        "    valor_sobrante_aluminio = round(material_sobrante_aluminio * tipo_aluminio_precio, 2)\n",
        "    valor_sobrante_vidrio = round(material_sobrante_vidrio * (tipo_vidrio_precio / 4.5), 2)\n",
        "\n",
        "\n",
        "    print('-------------- Costo de la ventana -----------------')\n",
        "\n",
        "    print(f'El valor de la ventana es {valor_vidrio + valor_aluminio:,}$')\n",
        "    print(f'El valor de la ventana con ganancia es {round((valor_vidrio + valor_aluminio) * (0.35) + (valor_vidrio + valor_aluminio),2):,}$ (35%)')\n",
        "\n",
        "    print(\"-------------- Material Utilizado -------------------\")\n",
        "    print(f'El material utilizado de aluminio es {material_utilizado_aluminio} metros. Su valor es de {valor_aluminio_utilizado:,}$')\n",
        "    print(f'El material utilizado de vidrio es {material_utilizado_vidrio} metros cuadrados. Su valor es de {valor_vidrio_utilizado:,}$')\n",
        "\n",
        "    print(\"-------------- Material Sobrante ---------------------\")\n",
        "    print(f'El material sobrante de aluminio es {material_sobrante_aluminio} metros. Su valor es de {valor_sobrante_aluminio:,}$')\n",
        "    print(f'El material sobrante de vidrio es {material_sobrante_vidrio} metros . Su valor es de {valor_sobrante_vidrio:,}$')\n",
        "\n",
        "ventanas()\n"
      ],
      "metadata": {
        "colab": {
          "base_uri": "https://localhost:8080/"
        },
        "id": "lNDFw3dkQv1x",
        "outputId": "11932476-5ad5-492d-f559-1351c1ca1a8c"
      },
      "execution_count": 24,
      "outputs": [
        {
          "output_type": "stream",
          "name": "stdout",
          "text": [
            "¿Qué tipo de aluminio desea?negro\n",
            "¿Qué tipo de vidrio desea?blindex\n",
            "¿Ancho de la ventana en milímetros?1500\n",
            "¿Alto de la ventana en milímetros?2300\n",
            "-------------- Costo de la ventana -------------\n",
            "El valor de la ventana es 135,269.2$\n",
            "El valor de la ventana con ganancia es 182,613.42$ (35%)\n",
            "-------------- Material Utilizado -------------------\n",
            "El material utilizado de aluminio es 7.6 metros. Su valor es de 32,004$\n",
            "El material utilizado de vidrio es 3.45 metros cuadrados. Su valor es de 115,000.0$\n",
            "-------------- Material Sobrante ---------------------\n",
            "El material sobrante de aluminio es 4.4 metros. Su valor es de 11,734.8$\n",
            "El material sobrante de vidrio es 1.05 metros . Su valor es de 35,000.0$\n"
          ]
        }
      ]
    },
    {
      "cell_type": "code",
      "source": [
        "def ventanas():\n",
        "    precios_aluminio = {\"normal\": 3334, \"blanco\": 2000, \"negro\": 2667}\n",
        "    precios_vidrio = {\"simple\": 30000, \"doble\": 60000, \"oscuro\": 80000, \"laminado\": 120000, \"blindex\": 150000}\n",
        "\n",
        "    tipo_aluminio = input(\"¿Qué tipo de aluminio desea?\")\n",
        "    tipo_aluminio_precio = precios_aluminio.get(tipo_aluminio, None)\n",
        "    if tipo_aluminio_precio is None:\n",
        "        print(\"No tenemos ese tipo de aluminio.\")\n",
        "        return\n",
        "\n",
        "    tipo_vidrio = input(\"¿Qué tipo de vidrio desea?\")\n",
        "    tipo_vidrio_precio = precios_vidrio.get(tipo_vidrio, None)\n",
        "    if tipo_vidrio_precio is None:\n",
        "        print(\"No tenemos ese tipo de vidrio.\")\n",
        "        return\n",
        "\n",
        "    while True:\n",
        "      try:\n",
        "        ancho = float(input(\"¿Ancho de la ventana en milímetros?\"))\n",
        "        if ancho > 1800:\n",
        "            print(\"El ancho no puede ser mayor a 1800 milímetros\")\n",
        "            continue\n",
        "        alto = float(input(\"¿Alto de la ventana en milímetros?\"))\n",
        "        if alto > 2500:\n",
        "            print(\"El alto no puede ser mayor a 2500 milímetros\")\n",
        "            continue\n",
        "        break\n",
        "      except ValueError:\n",
        "        print(\"Por favor ingrese un número válido para el ancho y el alto.\")\n",
        "\n",
        "\n",
        "    ancho_metro = float(ancho / 1000)\n",
        "    alto_metro = float(alto / 1000)\n",
        "    area_ventana = ancho_metro * alto_metro\n",
        "    perimetro_ventana = (ancho_metro * 2) + (alto_metro * 2)\n",
        "\n",
        "    valor_vidrio = round((area_ventana * tipo_vidrio_precio)/4.5,2)\n",
        "    valor_aluminio = round(perimetro_ventana * tipo_aluminio_precio,2)\n",
        "\n",
        "    # Se calcula el material utilizado\n",
        "    material_utilizado_aluminio = round(perimetro_ventana, 2)\n",
        "    material_utilizado_vidrio = round(area_ventana, 2)\n",
        "    tira_aluminio = 6\n",
        "    if perimetro_ventana > 6: \n",
        "      tira_aluminio = 12\n",
        "    plancha_vidrio = 4.5\n",
        "\n",
        "    # Se calcula el valor del material utilizado\n",
        "    valor_aluminio_utilizado = round(tira_aluminio * tipo_aluminio_precio,2)\n",
        "    valor_vidrio_utilizado = round(valor_vidrio,2)\n",
        "\n",
        "\n",
        "    # Se calcula el material sobrante\n",
        "    material_sobrante_aluminio = round(tira_aluminio - material_utilizado_aluminio, 2)\n",
        "    material_sobrante_vidrio = round(plancha_vidrio - material_utilizado_vidrio, 2)\n",
        "\n",
        "    # Se calcula el valor del material sobrante\n",
        "    valor_sobrante_aluminio = round(material_sobrante_aluminio * tipo_aluminio_precio, 2)\n",
        "    valor_sobrante_vidrio = round(material_sobrante_vidrio * (tipo_vidrio_precio / 4.5), 2)\n",
        "\n",
        "\n",
        "    print('-------------- Costo de la ventana -----------------')\n",
        "\n",
        "    print(f'El valor de la ventana es {valor_vidrio + valor_aluminio:,}$')\n",
        "    print(f'El valor de la ventana con ganancia es {round((valor_vidrio + valor_aluminio) * (0.35) + (valor_vidrio + valor_aluminio),2):,}$ (35%)')\n",
        "\n",
        "    print(\"-------------- Material Utilizado -------------------\")\n",
        "    print(f'El material utilizado de aluminio es {material_utilizado_aluminio} metros. Su valor es de {valor_aluminio_utilizado:,}$')\n",
        "    print(f'El material utilizado de vidrio es {material_utilizado_vidrio} metros cuadrados. Su valor es de {valor_vidrio_utilizado:,}$')\n",
        "\n",
        "    print(\"-------------- Material Sobrante ---------------------\")\n",
        "    print(f'El material sobrante de aluminio es {material_sobrante_aluminio} metros. Su valor es de {valor_sobrante_aluminio:,}$')\n",
        "    print(f'El material sobrante de vidrio es {material_sobrante_vidrio} metros . Su valor es de {valor_sobrante_vidrio:,}$')\n",
        "\n",
        "ventanas()\n"
      ],
      "metadata": {
        "id": "oLYK3k-NjIfn"
      },
      "execution_count": null,
      "outputs": []
    }
  ],
  "metadata": {
    "colab": {
      "provenance": []
    },
    "kernelspec": {
      "display_name": "Python 3",
      "name": "python3"
    }
  },
  "nbformat": 4,
  "nbformat_minor": 0
}